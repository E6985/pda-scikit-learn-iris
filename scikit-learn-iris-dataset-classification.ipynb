{
 "cells": [
  {
   "cell_type": "markdown",
   "metadata": {},
   "source": [
    "< [GMIT Data Analytics](https://web.archive.org/web/20201029063153/https://www.gmit.ie/computer-science-and-applied-physics/higher-diploma-science-computing-data-analytics-ict) | [Table of Contents](https://github.com/E6985) | [README](https://github.com/E6985/scikit-learn-iris-dataset-classification/blob/main/README.md) >\n",
    "\n",
    "<img src=\"img/gmit.png\" />\n",
    "\n",
    "## scikit-learn-iris-dataset-classification\n",
    "***"
   ]
  },
  {
   "cell_type": "markdown",
   "metadata": {},
   "source": [
    "- package - scikit-learn - machine learning - python - loads of nice algorithms coded up already in scikit-learn - so you do not have to code them all up by yourself by hand - if you are interested in say k-nearest neighbours or other algorithms like that scikit-learn has them all coded up already and you just have to learn the concepts and the ideas involved - then you can quite quickly with maybe four or five commands code up a really serious machine learning algorithm on whatever datasets you are looking at - really powerful package [\n",
    "[...] I. McLoughlin, \"Introduction to sklearn,\" GMIT, October 2018.\n",
    "]"
   ]
  },
  {
   "cell_type": "markdown",
   "metadata": {},
   "source": [
    "- other specialised packages - interested in neural networks - you can use scikit-learn but typically you would outsource something like that to its own specific packages that are really good for neural networks - keras - tensorflow - different libraries and packages like that [\n",
    "[...] I. McLoughlin, \"Introduction to sklearn,\" GMIT, October 2018.\n",
    "]"
   ]
  },
  {
   "cell_type": "markdown",
   "metadata": {},
   "source": [
    "- if interested in those sorts of topical machine learning algorithms - scikit-learn might not be your first port of call - but at the same time even if you are using some other packages for machine learning - with your neural networks - you typically would use various helper methods in scikit-learn to clean up your dataset initially before you do any machine learning with it - so its a really powerful package - really good package to learn how to use - its pretty straightforward - pretty accessible [\n",
    "[...] I. McLoughlin, \"Introduction to sklearn,\" GMIT, October 2018.\n",
    "]"
   ]
  },
  {
   "cell_type": "markdown",
   "metadata": {},
   "source": [
    "- [scikit-learn](https://web.archive.org/web/20201109090849/https://scikit-learn.org/stable/) - classification problems - regression - clustering problems which is quite like classification - dimensionality reduction which is when you have lots of different input variables or something like that and you want to just whittle them down to the most important ones - model selection allowing different ways of modelling datasets that you might have - and then theres a whole section on preprocessing which is kind of getting your dataset ready so that you can apply some techniques - might need to fill in some blanks or remove some outliers - or change variable types - or whatever - scikit-learn has all of these different things [\n",
    "[...] I. McLoughlin, \"Introduction to sklearn,\" GMIT, October 2018.\n",
    "]"
   ]
  },
  {
   "cell_type": "markdown",
   "metadata": {},
   "source": [
    "- great documentation - [Getting Started](https://web.archive.org/web/20201020092727/https://scikit-learn.org/stable/getting_started.html) - theres a lot of terminology in there maybe that you will not be familiar with but the only way to get familiar with it is read down through the documentation - just accept that there will be certain parts that you will not know too much about - you might not understand everything that said there - the quickest way to learn all this stuff is to actually read stuff - even if you do not fully understand it - code snippets - can type into a Jupyter notebook or into python itself and see what they do and pick them apart - quickest way to learn how to do all these things - its just get outside your comfort zone a little bit and just kind of poke and prod around - within the tutorials - within the documentation - within the package - give things a whirl - you are never going to know everything about machine learning - theres too much out there and its an active area of research - so all you can do is sort of try and get familiar with the common bits and pieces - do not be afraid to hop in like you are learning how to drive a car - do not be afraid to hop into the car and give it a whirl even though you do not fully know everything about the car - scikit-learn - will use it to do a simple k-nearest neighbours classification problem [\n",
    "[...] I. McLoughlin, \"Introduction to sklearn,\" GMIT, October 2018.\n",
    "]"
   ]
  },
  {
   "cell_type": "markdown",
   "metadata": {},
   "source": [
    "***\n",
    "# END"
   ]
  }
 ],
 "metadata": {
  "kernelspec": {
   "display_name": "Python 3",
   "language": "python",
   "name": "python3"
  },
  "language_info": {
   "codemirror_mode": {
    "name": "ipython",
    "version": 3
   },
   "file_extension": ".py",
   "mimetype": "text/x-python",
   "name": "python",
   "nbconvert_exporter": "python",
   "pygments_lexer": "ipython3",
   "version": "3.8.3"
  }
 },
 "nbformat": 4,
 "nbformat_minor": 4
}
